{
  "nbformat": 4,
  "nbformat_minor": 0,
  "metadata": {
    "kernelspec": {
      "display_name": "Python 3",
      "language": "python",
      "name": "python3"
    },
    "language_info": {
      "codemirror_mode": {
        "name": "ipython",
        "version": 3
      },
      "file_extension": ".py",
      "mimetype": "text/x-python",
      "name": "python",
      "nbconvert_exporter": "python",
      "pygments_lexer": "ipython3",
      "version": "3.7.9"
    },
    "colab": {
      "name": "homework02_freichwald_lscheu.ipynb",
      "provenance": []
    }
  },
  "cells": [
    {
      "cell_type": "code",
      "metadata": {
        "id": "VWz7Ihj-kDwT"
      },
      "source": [
        "import numpy as np"
      ],
      "execution_count": 79,
      "outputs": []
    },
    {
      "cell_type": "markdown",
      "metadata": {
        "id": "jOwrkiqMkDwX"
      },
      "source": [
        "## 1 Preparation"
      ]
    },
    {
      "cell_type": "markdown",
      "metadata": {
        "id": "85g2KC16kDwY"
      },
      "source": [
        "### What is the purpose of an activation function in NN in general"
      ]
    },
    {
      "cell_type": "markdown",
      "metadata": {
        "id": "0naiPcwgkDwY"
      },
      "source": [
        "First, let's quickly recap: Neural Networks are networks of neurons. Each neuron receives potentials from other neurons (or other sources, e.g. photoreceptors), which influence its own potential. This potential needs to reach a certain *threshold* to \"fire\" again, i.e. to send the signal forward. In general, the task of the *threshold* is to differentiate between *noise* and important *stimulus*.  \n",
        "Conceptually, a neuron in an ANN serves the same purpose: *Sum up incoming information, decide whether the input is noise or stimulus and decide to fire*. This is all encompassed by the activation function. "
      ]
    },
    {
      "cell_type": "markdown",
      "metadata": {
        "id": "q4Q63sx3kDwZ"
      },
      "source": [
        "### What's the advantage of e.g. sigmoid over the step function (threshold function)"
      ]
    },
    {
      "cell_type": "markdown",
      "metadata": {
        "id": "VHOVZ3dPkDwZ"
      },
      "source": [
        "Step function: $$\\sigma(x) := y = \\begin{cases} 1\\text{ for }x\\geq 0 \\\\ 0 \\text{ for } x < 0 \\end{cases}$$  \n",
        "(see sigmoid below)  \n",
        "In a nut shell, while the step function is biologically motivated and simple to implement, the big disadvantage is that it's derivative is 0 everywhere. Since we need a derivative for our gradient descent approach to optimization, we should choose an activtion function that's derivative contains valuable information: A very popular alternative is the sigmoid function. Another advantage is that the sigmoid function also adheres to the *Universal Approximation Theorem*, which in summary just states that an MLP with one hidden layer can approximate any (real) function given enough neurons in this hidden layer. Neat. "
      ]
    },
    {
      "cell_type": "markdown",
      "metadata": {
        "id": "EOg_fAfFkDwa"
      },
      "source": [
        "### What does sigmoid look like (the formula as well as the graph)?"
      ]
    },
    {
      "cell_type": "markdown",
      "metadata": {
        "id": "3o8RaNZ4kDwa"
      },
      "source": [
        "Sigmoid: $$\\sigma(x) = \\frac{1}{1+e^{-x}}$$  \n",
        "For Sigmoid-prime (derivative), see below. \n",
        "![sig.png](attachment:sig.png)"
      ]
    },
    {
      "cell_type": "markdown",
      "metadata": {
        "id": "CHZ52pq6kDwb"
      },
      "source": [
        "### What is the derivative of sigmoid "
      ]
    },
    {
      "cell_type": "markdown",
      "metadata": {
        "id": "ovqqjSNhkDwb"
      },
      "source": [
        "$$\\frac{d}{dx} \\sigma=\\sigma'(x) = \\sigma(x)(1-\\sigma(x))$$"
      ]
    },
    {
      "cell_type": "code",
      "metadata": {
        "id": "fSNC7v77kDwc"
      },
      "source": [
        "# Super simple sigmoid, no error handling, using the already importet numpy exponent \n",
        "# function instead of loading the extra python math module. \n",
        "def sigmoid(x):\n",
        "    return (1 / (1 + np.exp(-x)))"
      ],
      "execution_count": 80,
      "outputs": []
    },
    {
      "cell_type": "code",
      "metadata": {
        "id": "kP6UFBW6kDwf"
      },
      "source": [
        "# Simply using the above definition of sigmoidprime and our priorly defined sigmoid function.\n",
        "def sigmoidprime(x):\n",
        "    return sigmoid(x)*(1-sigmoid(x))"
      ],
      "execution_count": 81,
      "outputs": []
    },
    {
      "cell_type": "markdown",
      "metadata": {
        "id": "erhbQK07kDwh"
      },
      "source": [
        "## 2 Data set"
      ]
    },
    {
      "cell_type": "code",
      "metadata": {
        "id": "rcjzxTFLkDwh"
      },
      "source": [
        "data = np.array([[0,0],[0,1],[1,0],[1,1]], dtype = np.float32) # permutate all posibilities\n",
        "# Correct labels for all 5 logic tasks \n",
        "lab_and = np.array([0,0,0,1], dtype = np.float32)\n",
        "lab_or = np.array([0,1,1,1], dtype = np.float32)\n",
        "lab_notand = np.array([1,1,1,0], dtype = np.float32)\n",
        "lab_notor = np.array([1,0,0,0], dtype = np.float32)\n",
        "lab_xor = np.array([0,1,1,0], dtype = np.float32)"
      ],
      "execution_count": 82,
      "outputs": []
    },
    {
      "cell_type": "markdown",
      "metadata": {
        "id": "1_neB2R7kDwk"
      },
      "source": [
        "## 3 Perceptron "
      ]
    },
    {
      "cell_type": "code",
      "metadata": {
        "id": "RQRQkdmrkDwk"
      },
      "source": [
        "# We will need to update our perceptron from last week a little bit. You can reuse a few parts from last time!\n",
        "\n",
        "class Perceptron:\n",
        "    \n",
        "    def __init__(self, input_units):\n",
        "        self.input_units = input_units\n",
        "        \n",
        "        ### YOUR CODE HERE ###\n",
        "        # Initialize random weights and a random bias term. \n",
        "        # The weights with mean 0 and stddev 0.5.\n",
        "        # The bias with mean 0 and stddev 0.05. Check 'np.random.normal()'.\n",
        "        self.weights = np.random.normal(loc=0,scale=0.5,size=self.input_units)\n",
        "        self.bias = np.random.normal(loc=0, scale=0.05, size=1)\n",
        "        # Define the learning rate as 1.\n",
        "        self.alpha = 1\n",
        "        #######################\n",
        "        \n",
        "        # Further we will later need access to the input and drive of the neuron. \n",
        "        # We initialize variables to store it.\n",
        "        self.inputs = 0\n",
        "        self.drive = 0\n",
        "        \n",
        "    def forward_step(self, inputs):\n",
        "        self.inputs = inputs\n",
        "        ### YOUR CODE HERE ###\n",
        "        # Calculate the drive and store it in the corresponding variable.\n",
        "        self.drive = self.weights @ inputs + self.bias\n",
        "        # Return the activation.\n",
        "        return sigmoid(self.drive)\n",
        "        ######################\n",
        "        \n",
        "    def update(self, delta):\n",
        "        # We will call this function to update the parameters for this specific perceptron.\n",
        "        # The function is provide with a delta. So you only need to compute the gradients \n",
        "        # perform the update.\n",
        "        \n",
        "        ### YOUR CODE HERE ###\n",
        "        # Compute the gradients for weights and bias.\n",
        "        gradient_weights = delta * self.inputs\n",
        "        gradient_bias = delta\n",
        "        # Update weights and bias.\n",
        "        self.weights -=  self.alpha * gradient_weights\n",
        "        self.bias -= self.alpha * gradient_bias\n",
        "        #######################"
      ],
      "execution_count": 83,
      "outputs": []
    },
    {
      "cell_type": "markdown",
      "metadata": {
        "id": "xMGUyOKRkDwn"
      },
      "source": [
        "## 5 Multi-Layer-Perceptron"
      ]
    },
    {
      "cell_type": "code",
      "metadata": {
        "id": "5IVcB5JOkDwn"
      },
      "source": [
        "# We can now build a multi-layer perceptron out of the previously defined perceptrons.\n",
        "class MLP:\n",
        "    \n",
        "    def __init__(self):\n",
        "        # Here we initialize the perceptrons for the hidden layer.\n",
        "        self.hidden_layer = [\n",
        "            Perceptron(input_units=2),\n",
        "            Perceptron(input_units=2),\n",
        "            Perceptron(input_units=2),\n",
        "            Perceptron(input_units=2)\n",
        "        ]\n",
        "        # Initializing the output neuron.\n",
        "        self.output_neuron = Perceptron(input_units=4)\n",
        "        # Initializing a variable to store the output.\n",
        "        self.output = 0\n",
        "        \n",
        "    def forward_step(self, inputs):\n",
        "        ### YOUR CODE HERE ###\n",
        "        # Compute the activations for the hidden layer.\n",
        "        activations_hidden = np.array([p.forward_step(inputs) for p in self.hidden_layer])\n",
        "        # You might need to reshape ((4,1)->(4,)) the resulting array to feed it to the output neuron. \n",
        "        # Check 'np.reshape(arr, newshape=(-1)).'\n",
        "        activations_hidden = np.reshape(activations_hidden, newshape=(-1))\n",
        "        # Compute the activation of the output neuron and store it in 'self.output'.\n",
        "        self.output = self.output_neuron.forward_step(activations_hidden)\n",
        "        ######################\n",
        "        \n",
        "    def backprop_step(self, inputs, target):\n",
        "        # Use the Sum-squared error (lecture 3) as the loss function.\n",
        "        ### YOUR CODE HERE ###\n",
        "        # Compute the delta at the output neuron.\n",
        "        output_delta = - (target - self.output) * sigmoidprime(self.output_neuron.drive)\n",
        "        # Update the parameters of  the output neuron.\n",
        "        self.output_neuron.update(output_delta)\n",
        "        # Compute the deltas for the hidden neurons.\n",
        "        hidden_deltas = [output_delta * sigmoidprime(p.drive) * self.output_neuron.weights[i] for i, p in enumerate(self.hidden_layer)]\n",
        "        # Update the parameters for all four neurons in the hidden layer.\n",
        "        for i,p in enumerate(self.hidden_layer):\n",
        "            p.update(hidden_deltas[i])\n",
        "        ######################"
      ],
      "execution_count": 84,
      "outputs": []
    },
    {
      "cell_type": "code",
      "metadata": {
        "scrolled": true,
        "id": "WZvyIrsCkDwq"
      },
      "source": [
        "# Initialize the MLP.\n",
        "mlp = MLP()\n",
        "# Initialize lists to store epochs, loss, accuracy.\n",
        "epochs=[]\n",
        "losses=[]\n",
        "accuracies=[]\n",
        "\n",
        "for epoch in range(500):\n",
        "    epochs.append(epoch)\n",
        "    \n",
        "    accuracy_buffer = 0\n",
        "    loss_buffer = 0\n",
        "    \n",
        "    # Training loop.\n",
        "    for i in range(4):\n",
        "        x = data[i]\n",
        "        t = lab_and[i]\n",
        "        \n",
        "        ### YOUR CODE HERE ###\n",
        "        # Perform a forward step with the given sample.\n",
        "        mlp.forward_step(x)\n",
        "        # Perform a backpropagation step with the given sample and target.\n",
        "        mlp.backprop_step(x,t)\n",
        "        ######################\n",
        "        \n",
        "        accuracy_buffer += int(float(mlp.output>=0.5) == t)\n",
        "        loss_buffer += (t-mlp.output)**2\n",
        "        \n",
        "    accuracies.append(accuracy_buffer/4.0)\n",
        "    losses.append(loss_buffer)"
      ],
      "execution_count": 88,
      "outputs": []
    },
    {
      "cell_type": "code",
      "metadata": {
        "id": "LnmG-4XRkDwt",
        "outputId": "1350755d-af6a-4930-9d05-d8c7c742fb22",
        "colab": {
          "base_uri": "https://localhost:8080/",
          "height": 541
        }
      },
      "source": [
        "# Visualize the training progress. Loss and accuracy.\n",
        "# If the performance does not reach 100% just rerun the cell above.\n",
        "### YOUR CODE HERE ###\n",
        "import matplotlib.pyplot as plt\n",
        "plt.figure()\n",
        "plt.plot(epochs,losses)\n",
        "plt.xlabel(\"Training Steps\")\n",
        "plt.ylabel(\"Loss\")\n",
        "plt.show()\n",
        "\n",
        "plt.figure()\n",
        "plt.plot(epochs,accuracies)\n",
        "plt.xlabel(\"Training Steps\")\n",
        "plt.ylabel(\"Accuracy\")\n",
        "plt.show()\n",
        "######################"
      ],
      "execution_count": 89,
      "outputs": [
        {
          "output_type": "display_data",
          "data": {
            "image/png": "[encoded data removed]",
            "text/plain": [
              "<Figure size 432x288 with 1 Axes>"
            ]
          },
          "metadata": {
            "tags": [],
            "needs_background": "light"
          }
        },
        {
          "output_type": "display_data",
          "data": {
            "image/png": "[encoded data removed]",
            "text/plain": [
              "<Figure size 432x288 with 1 Axes>"
            ]
          },
          "metadata": {
            "tags": [],
            "needs_background": "light"
          }
        }
      ]
    },
    {
      "cell_type": "code",
      "metadata": {
        "id": "eZY2Z4eOkDwy"
      },
      "source": [
        ""
      ],
      "execution_count": null,
      "outputs": []
    }
  ]
}