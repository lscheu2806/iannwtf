{
  "nbformat": 4,
  "nbformat_minor": 0,
  "metadata": {
    "kernelspec": {
      "display_name": "Python 3",
      "language": "python",
      "name": "python3"
    },
    "language_info": {
      "codemirror_mode": {
        "name": "ipython",
        "version": 3
      },
      "file_extension": ".py",
      "mimetype": "text/x-python",
      "name": "python",
      "nbconvert_exporter": "python",
      "pygments_lexer": "ipython3",
      "version": "3.7.9"
    },
    "colab": {
      "name": "homework02_freichwald_lscheu.ipynb",
      "provenance": [],
      "collapsed_sections": [],
      "include_colab_link": true
    }
  },
  "cells": [
    {
      "cell_type": "markdown",
      "metadata": {
        "id": "view-in-github",
        "colab_type": "text"
      },
      "source": [
        "<a href=\"https://colab.research.google.com/github/lscheu2806/iannwtf/blob/main/homework02_freichwald_lscheu.ipynb\" target=\"_parent\"><img src=\"https://colab.research.google.com/assets/colab-badge.svg\" alt=\"Open In Colab\"/></a>"
      ]
    },
    {
      "cell_type": "code",
      "metadata": {
        "id": "VWz7Ihj-kDwT"
      },
      "source": [
        "import numpy as np"
      ],
      "execution_count": 4,
      "outputs": []
    },
    {
      "cell_type": "markdown",
      "metadata": {
        "id": "jOwrkiqMkDwX"
      },
      "source": [
        "## 1 Preparation"
      ]
    },
    {
      "cell_type": "markdown",
      "metadata": {
        "id": "85g2KC16kDwY"
      },
      "source": [
        "### What is the purpose of an activation function in NN in general"
      ]
    },
    {
      "cell_type": "markdown",
      "metadata": {
        "id": "0naiPcwgkDwY"
      },
      "source": [
        "First, let's quickly recap: Neural Networks are networks of neurons. Each neuron receives potentials from other neurons (or other sources, e.g. photoreceptors), which influence its own potential. This potential needs to reach a certain *threshold* to \"fire\" again, i.e. to send the signal forward. In general, the task of the *threshold* is to differentiate between *noise* and important *stimulus*.  \n",
        "Conceptually, a neuron in an ANN serves the same purpose: *Sum up incoming information, decide whether the input is noise or stimulus and decide to fire*. This is all encompassed by the activation function. "
      ]
    },
    {
      "cell_type": "markdown",
      "metadata": {
        "id": "q4Q63sx3kDwZ"
      },
      "source": [
        "### What's the advantage of e.g. sigmoid over the step function (threshold function)"
      ]
    },
    {
      "cell_type": "markdown",
      "metadata": {
        "id": "VHOVZ3dPkDwZ"
      },
      "source": [
        "Step function: $$\\sigma(x) := y = \\begin{cases} 1\\text{ for }x\\geq 0 \\\\ 0 \\text{ for } x < 0 \\end{cases}$$  \n",
        "(see sigmoid below)  \n",
        "In a nut shell, while the step function is biologically motivated and simple to implement, the big disadvantage is that it's derivative is 0 everywhere. Since we need a derivative for our gradient descent approach to optimization, we should choose an activtion function that's derivative contains valuable information: A very popular alternative is the sigmoid function. Another advantage is that the sigmoid function also adheres to the *Universal Approximation Theorem*, which in summary just states that an MLP with one hidden layer can approximate any (real) function given enough neurons in this hidden layer. Neat. "
      ]
    },
    {
      "cell_type": "markdown",
      "metadata": {
        "id": "EOg_fAfFkDwa"
      },
      "source": [
        "### What does sigmoid look like (the formula as well as the graph)?"
      ]
    },
    {
      "cell_type": "markdown",
      "metadata": {
        "id": "3o8RaNZ4kDwa"
      },
      "source": [
        "Sigmoid: $$\\sigma(x) = \\frac{1}{1+e^{-x}}$$  \n",
        "For Sigmoid-prime (derivative), see below. \n",
        "![sig.png](attachment:sig.png)"
      ]
    },
    {
      "cell_type": "markdown",
      "metadata": {
        "id": "CHZ52pq6kDwb"
      },
      "source": [
        "### What is the derivative of sigmoid "
      ]
    },
    {
      "cell_type": "markdown",
      "metadata": {
        "id": "ovqqjSNhkDwb"
      },
      "source": [
        "$$\\frac{d}{dx} \\sigma=\\sigma'(x) = \\sigma(x)(1-\\sigma(x))$$"
      ]
    },
    {
      "cell_type": "code",
      "metadata": {
        "id": "fSNC7v77kDwc"
      },
      "source": [
        "# Super simple sigmoid, no error handling, using the already importet numpy exponent \n",
        "# function instead of loading the extra python math module. \n",
        "def sigmoid(x):\n",
        "    return (1 / (1 + np.exp(-x)))"
      ],
      "execution_count": 5,
      "outputs": []
    },
    {
      "cell_type": "code",
      "metadata": {
        "id": "kP6UFBW6kDwf"
      },
      "source": [
        "# Simply using the above definition of sigmoidprime and our priorly defined sigmoid function.\n",
        "def sigmoidprime(x):\n",
        "    return sigmoid(x)*(1-sigmoid(x))"
      ],
      "execution_count": 6,
      "outputs": []
    },
    {
      "cell_type": "markdown",
      "metadata": {
        "id": "erhbQK07kDwh"
      },
      "source": [
        "## 2 Data set"
      ]
    },
    {
      "cell_type": "code",
      "metadata": {
        "id": "rcjzxTFLkDwh"
      },
      "source": [
        "# Permutate all posibilities\n",
        "data = np.array([[0,0],[0,1],[1,0],[1,1]], dtype = np.float32) \n",
        "# Correct labels for all 5 logic tasks \n",
        "lab_and = np.array([0,0,0,1], dtype = np.float32)\n",
        "lab_or = np.array([0,1,1,1], dtype = np.float32)\n",
        "lab_notand = np.array([1,1,1,0], dtype = np.float32)\n",
        "lab_notor = np.array([1,0,0,0], dtype = np.float32)\n",
        "lab_xor = np.array([0,1,1,0], dtype = np.float32)"
      ],
      "execution_count": 7,
      "outputs": []
    },
    {
      "cell_type": "markdown",
      "metadata": {
        "id": "1_neB2R7kDwk"
      },
      "source": [
        "## 3 Perceptron "
      ]
    },
    {
      "cell_type": "code",
      "metadata": {
        "id": "RQRQkdmrkDwk"
      },
      "source": [
        "class Perceptron:\n",
        "    # Initializing the perceptron with the right number of inputs (input_units)\n",
        "    def __init__(self, input_units):\n",
        "        self.input_units = input_units\n",
        "        # Initialize random weights and a random bias term.\n",
        "        self.weights = np.random.randn(input_units)\n",
        "        self.bias = np.random.randn()\n",
        "        # Setting the learning rate to 1\n",
        "        self.alpha = 1\n",
        "        \n",
        "    def forward_step(self, inputs):\n",
        "        # Saves the input for later backpropagation\n",
        "        self.inputs = inputs\n",
        "        # Calculates the weighted input and returns it after using the activation function, in this case sigmoid\n",
        "        self.weighted_sum = self.weights @ inputs + self.bias\n",
        "        return sigmoid(self.weighted_sum)\n",
        "        \n",
        "    def update(self, delta):\n",
        "        # Updating the weights and bias using delta\n",
        "        gradient = delta * self.inputs\n",
        "        self.weights = self.weights - self.alpha * gradient\n",
        "        self.bias = self.bias - self.alpha * delta"
      ],
      "execution_count": 44,
      "outputs": []
    },
    {
      "cell_type": "markdown",
      "metadata": {
        "id": "xMGUyOKRkDwn"
      },
      "source": [
        "## 5 Multi-Layer-Perceptron"
      ]
    },
    {
      "cell_type": "code",
      "metadata": {
        "id": "5IVcB5JOkDwn"
      },
      "source": [
        "# Here we use the perceptrons to build a multi layer perceptron\n",
        "class MLP:\n",
        "    def __init__(self, nPerc, nInputs):\n",
        "        # Building a hidden layer with nPerc perceptrons, these have a certain number of inputs defined by nInputs\n",
        "        self.hidden = np.array([Perceptron(nInputs) for i in range(nPerc)])\n",
        "        self.outputPerc = Perceptron(nPerc)\n",
        "        \n",
        "    def forward_step(self, inputs):\n",
        "        # Calling in the hidden layer each perceptrons forawrd_step-function and saves the results in hiddenLayerOutput. \n",
        "        # Then we call the forward_step-function of the output perceptron and hand over the results of the hidden layer. The\n",
        "        # result of the output perceptron will be saved in output\n",
        "        self.hiddenLayerOutput = np.array([perc.forward_step(inputs) for perc in self.hidden])\n",
        "        self.hiddenLayerOutput = np.reshape(self.hiddenLayerOutput, newshape=(-1))\n",
        "        self.output = self.outputPerc.forward_step(self.hiddenLayerOutput)\n",
        "        \n",
        "    def backprop_step(self, label):\n",
        "        # Calculates the delta for the output perceptron \n",
        "        deltaOutput = -(label - self.output) * sigmoidprime(self.outputPerc.weighted_sum)\n",
        "        # Updates the output perceptron\n",
        "        self.outputPerc.update(deltaOutput)\n",
        "        # Calculates the delta for each perceptron in the hidden layer and updates it\n",
        "        for i,perc in enumerate(self.hidden):\n",
        "            delta = deltaOutput * sigmoidprime(perc.weighted_sum) * self.outputPerc.weights[i]\n",
        "            perc.update(delta)"
      ],
      "execution_count": 48,
      "outputs": []
    },
    {
      "cell_type": "code",
      "metadata": {
        "scrolled": true,
        "id": "WZvyIrsCkDwq"
      },
      "source": [
        "# Training function where we can choose\n",
        "#   nPerc: number of perceptrons in the hidden layer\n",
        "#   input_units : number of inputs to the hidden layer\n",
        "#   epochs: number of epochs for the training\n",
        "#   data: the data we use to train the mlp\n",
        "#   labels: correct labels of the datapoints (labels the mlp is meant to learn)\n",
        "# Additionaly the function takes record of the accuracy and losses.\n",
        "def train(nPerc, inputs_units, epochs, data, labels):\n",
        "  mlp = MLP(nPerc, inputs_units)\n",
        "  epoList = range(1, epochs+1)\n",
        "  lossList = []\n",
        "  accList = []\n",
        "  for i in epoList:\n",
        "        print(f\"Epoch {i} done\")\n",
        "        accuracy = 0\n",
        "        loss = 0\n",
        "        for j in range(0,len(data)):\n",
        "            mlp.forward_step(data[j])\n",
        "            mlp.backprop_step(labels[j])\n",
        "            accuracy += 1 if (mlp.output < 0.5 and labels[j] == 0) or (mlp.output >= 0.5 and labels[j] == 1) else 0\n",
        "            loss += (labels[j] - mlp.output)**2\n",
        "        accList.append(accuracy/4)\n",
        "        lossList.append(loss/4)\n",
        "  return mlp, accList, lossList, epoList\n",
        "\n",
        "trainedMLP, accList, lossList, epoList = train(4,2,1000, data, lab_xor)"
      ],
      "execution_count": 46,
      "outputs": []
    },
    {
      "cell_type": "code",
      "metadata": {
        "id": "LnmG-4XRkDwt",
        "outputId": "60d21d75-06ff-4e28-d8ad-16ef6f0c18cd",
        "colab": {
          "base_uri": "https://localhost:8080/",
          "height": 294
        }
      },
      "source": [
        "import matplotlib.pyplot as plt\n",
        "\n",
        "# Visualizing the results (accuracy, losses) of the mlp using matplotlib\n",
        "fig, axs = plt.subplots(2)\n",
        "plt.subplots_adjust(hspace=1)\n",
        "axs[0].plot(epoList, lossList)\n",
        "axs[0].set_title(\"Average Loss\")\n",
        "axs[0].set(xlabel=\"Training Steps\", ylabel=\"Loss\")\n",
        "axs[0].set_ylim(0, 1)\n",
        "\n",
        "axs[1].plot(epoList, accList)\n",
        "axs[1].set_title(\"Average Accuracy\")\n",
        "axs[1].set(xlabel=\"Training Steps\", ylabel=\"Accuracy\")\n",
        "axs[1].set_ylim(0,1)\n",
        "plt.show()"
      ],
      "execution_count": 47,
      "outputs": [
        {
          "output_type": "display_data",
          "data": {
            "image/png": "[encoded data removed]",
            "text/plain": [
              "<Figure size 432x288 with 2 Axes>"
            ]
          },
          "metadata": {
            "tags": [],
            "needs_background": "light"
          }
        }
      ]
    },
    {
      "cell_type": "code",
      "metadata": {
        "id": "eZY2Z4eOkDwy"
      },
      "source": [
        ""
      ],
      "execution_count": null,
      "outputs": []
    }
  ]
}